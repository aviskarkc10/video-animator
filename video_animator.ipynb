{
 "cells": [
  {
   "cell_type": "code",
   "execution_count": 1,
   "metadata": {},
   "outputs": [],
   "source": [
    "import numpy as np\n",
    "import cv2"
   ]
  },
  {
   "cell_type": "code",
   "execution_count": 2,
   "metadata": {},
   "outputs": [],
   "source": [
    "video = cv2.VideoCapture('torres.mp4')"
   ]
  },
  {
   "cell_type": "code",
   "execution_count": 3,
   "metadata": {},
   "outputs": [],
   "source": [
    "success, image = video.read()\n",
    "frames = []\n",
    "count = 0\n",
    "while success:\n",
    "  frames.append(image)\n",
    "  success,image = video.read()\n",
    "  count += 1"
   ]
  },
  {
   "cell_type": "code",
   "execution_count": 4,
   "metadata": {},
   "outputs": [],
   "source": [
    "cv2.imshow('image', frames[0])\n",
    "cv2.waitKey(0)\n",
    "cv2.destroyAllWindows()"
   ]
  },
  {
   "cell_type": "code",
   "execution_count": 5,
   "metadata": {},
   "outputs": [],
   "source": [
    "edge_images = []\n",
    "for frame in frames:\n",
    "    # convert to grayscale and apply median blur\n",
    "    img_gray = cv2.cvtColor(frame, cv2.COLOR_RGB2GRAY)\n",
    "    img_blur = cv2.medianBlur(img_gray, 7)\n",
    "    \n",
    "    # detect and enhance edges\n",
    "#     img_edge = cv2.adaptiveThreshold(img_blur, 255,\n",
    "#                                      cv2.ADAPTIVE_THRESH_MEAN_C,\n",
    "#                                      cv2.THRESH_BINARY,\n",
    "#                                      blockSize=9,\n",
    "#                                      C=2)\n",
    "    img_edge = cv2.Canny(frame,100,200)\n",
    "    edge_images.append(img_edge)"
   ]
  },
  {
   "cell_type": "code",
   "execution_count": 6,
   "metadata": {},
   "outputs": [],
   "source": [
    "import os\n",
    "\n",
    "height, width, channels = frames[0].shape\n",
    "\n",
    "# Define the codec and create VideoWriter object\n",
    "fourcc = cv2.VideoWriter_fourcc(*'mp4v') # Be sure to use lower case\n",
    "out = cv2.VideoWriter('output.mp4', fourcc, 30.0, (width, height))\n",
    "\n",
    "for i in range(len(edge_images)):\n",
    "    # writing to a image array\n",
    "    out.write(cv2.merge([edge_images[i], edge_images[i], edge_images[i]]))\n",
    "\n",
    "out.release()"
   ]
  },
  {
   "cell_type": "code",
   "execution_count": null,
   "metadata": {},
   "outputs": [],
   "source": []
  }
 ],
 "metadata": {
  "kernelspec": {
   "display_name": "Python 3",
   "language": "python",
   "name": "python3"
  },
  "language_info": {
   "codemirror_mode": {
    "name": "ipython",
    "version": 3
   },
   "file_extension": ".py",
   "mimetype": "text/x-python",
   "name": "python",
   "nbconvert_exporter": "python",
   "pygments_lexer": "ipython3",
   "version": "3.5.2"
  }
 },
 "nbformat": 4,
 "nbformat_minor": 2
}
